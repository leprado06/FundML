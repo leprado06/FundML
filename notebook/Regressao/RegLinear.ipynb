{
 "cells": [
  {
   "cell_type": "markdown",
   "metadata": {},
   "source": [
    "# Imports"
   ]
  },
  {
   "cell_type": "code",
   "execution_count": 14,
   "metadata": {},
   "outputs": [],
   "source": [
    "import pandas   as pd\n",
    "import numpy    as np\n",
    "\n",
    "from sklearn            import metrics          as mt\n",
    "from sklearn            import linear_model     as lm"
   ]
  },
  {
   "cell_type": "markdown",
   "metadata": {},
   "source": [
    "# Load Dataset"
   ]
  },
  {
   "cell_type": "code",
   "execution_count": 15,
   "metadata": {},
   "outputs": [],
   "source": [
    "#Lendo arquivo CSV de Treino\n",
    "x_train = pd.read_csv('../../dataset/reg/X_training.csv')\n",
    "y_train = pd.read_csv('../../dataset/reg/y_training.csv')\n",
    "\n",
    "#Lendo arquivo CSV de teste\n",
    "x_test = pd.read_csv('../../dataset/reg/X_test.csv')\n",
    "y_test = pd.read_csv('../../dataset/reg/y_test.csv')\n",
    "\n",
    "#Lendo arquivo CSV de Validação\n",
    "x_val = pd.read_csv('../../dataset/reg/X_validation.csv')\n",
    "y_val = pd.read_csv('../../dataset/reg/y_val.csv')"
   ]
  },
  {
   "cell_type": "code",
   "execution_count": 16,
   "metadata": {},
   "outputs": [],
   "source": [
    "#Preparação dos dados\n",
    "\n",
    "y_train = y_train.values.ravel()\n",
    "y_val = y_val.values.ravel()"
   ]
  },
  {
   "cell_type": "markdown",
   "metadata": {},
   "source": [
    "# Model Training - LinearRegression (Training Data)"
   ]
  },
  {
   "cell_type": "code",
   "execution_count": 17,
   "metadata": {},
   "outputs": [
    {
     "name": "stdout",
     "output_type": "stream",
     "text": [
      "R2 Score: 0.046\n",
      "MSE: 455.996\n",
      "RMSE: 21.354\n",
      "MAE: 16.998\n",
      "MAPE: 8.65%\n"
     ]
    }
   ],
   "source": [
    "#define\n",
    "model = lm.LinearRegression()\n",
    "\n",
    "#fit\n",
    "model.fit(x_train,y_train)\n",
    "yhat_train = model.predict(x_train)\n",
    "\n",
    "#performance\n",
    "r2_train = mt.r2_score(y_train,yhat_train)\n",
    "print(f'R2 Score: {r2_train:.3f}')\n",
    "\n",
    "mse_train = mt.mean_squared_error(y_train,yhat_train)\n",
    "print(f'MSE: {mse_train:.3f}')\n",
    "\n",
    "rmse_train = np.sqrt(mse_train)\n",
    "print(f'RMSE: {rmse_train:.3f}')\n",
    "\n",
    "mae_train = mt.mean_absolute_error(y_train,yhat_train)\n",
    "print(f'MAE: {mae_train:.3f}')\n",
    "\n",
    "mape_train = mt.mean_absolute_percentage_error(y_train,yhat_train)\n",
    "print(f'MAPE: {mape_train:.2f}%')"
   ]
  },
  {
   "cell_type": "markdown",
   "metadata": {},
   "source": [
    "# Model Training - LinearRegression (Validation Data)"
   ]
  },
  {
   "cell_type": "code",
   "execution_count": 18,
   "metadata": {},
   "outputs": [
    {
     "name": "stdout",
     "output_type": "stream",
     "text": [
      "R2 Score: 0.040\n",
      "MSE: 458.447\n",
      "RMSE: 21.411\n",
      "MAE: 17.040\n",
      "MAPE: 8.68%\n"
     ]
    }
   ],
   "source": [
    "#define\n",
    "model = lm.LinearRegression()\n",
    "\n",
    "#fit\n",
    "model.fit(x_train,y_train)\n",
    "yhat_val = model.predict(x_val)\n",
    "\n",
    "#performance\n",
    "r2_val = mt.r2_score(y_val,yhat_val)\n",
    "print(f'R2 Score: {r2_val:.3f}')\n",
    "\n",
    "mse_val = mt.mean_squared_error(y_val,yhat_val)\n",
    "print(f'MSE: {mse_val:.3f}')\n",
    "\n",
    "rmse_val = np.sqrt(mse_val)\n",
    "print(f'RMSE: {rmse_val:.3f}')\n",
    "\n",
    "mae_val = mt.mean_absolute_error(y_val,yhat_val)\n",
    "print(f'MAE: {mae_val:.3f}')\n",
    "\n",
    "mape_val = mt.mean_absolute_percentage_error(y_val,yhat_val)\n",
    "print(f'MAPE: {mape_val:.2f}%')"
   ]
  },
  {
   "cell_type": "markdown",
   "metadata": {},
   "source": [
    "# Model Training - LinearRegression (Test Data)"
   ]
  },
  {
   "cell_type": "code",
   "execution_count": 19,
   "metadata": {},
   "outputs": [
    {
     "name": "stdout",
     "output_type": "stream",
     "text": [
      "R2 Score: 0.051\n",
      "MSE: 461.988\n",
      "RMSE: 21.494\n",
      "MAE: 17.144\n",
      "MAPE: 8.53%\n"
     ]
    },
    {
     "name": "stderr",
     "output_type": "stream",
     "text": [
      "/home/leprado06/.pyenv/versions/ensaio_ML/lib/python3.12/site-packages/sklearn/utils/validation.py:2732: UserWarning: X has feature names, but LinearRegression was fitted without feature names\n",
      "  warnings.warn(\n"
     ]
    }
   ],
   "source": [
    "#define\n",
    "model = lm.LinearRegression()\n",
    "\n",
    "#fit\n",
    "model.fit(np.concatenate((x_train,x_val)),\n",
    "          np.concatenate((y_train,y_val)))\n",
    "yhat_test = model.predict(x_test)\n",
    "\n",
    "#performance\n",
    "r2_test = mt.r2_score(y_test,yhat_test)\n",
    "print(f'R2 Score: {r2_test:.3f}')\n",
    "\n",
    "mse_test = mt.mean_squared_error(y_test,yhat_test)\n",
    "print(f'MSE: {mse_test:.3f}')\n",
    "\n",
    "rmse_test = np.sqrt(mse_test)\n",
    "print(f'RMSE: {rmse_test:.3f}')\n",
    "\n",
    "mae_test = mt.mean_absolute_error(y_test,yhat_test)\n",
    "print(f'MAE: {mae_test:.3f}')\n",
    "\n",
    "mape_test = mt.mean_absolute_percentage_error(y_test,yhat_test)\n",
    "print(f'MAPE: {mape_test:.2f}%')"
   ]
  },
  {
   "cell_type": "markdown",
   "metadata": {},
   "source": [
    "# Save Results"
   ]
  },
  {
   "cell_type": "code",
   "execution_count": 20,
   "metadata": {},
   "outputs": [],
   "source": [
    "train_metrics = {\n",
    "    \"Algorithm\": \"Linear Regression\",\n",
    "    \"R-Squared\": np.round(r2_train, 3),\n",
    "    \"MSE\": np.round(mse_train, 3),\n",
    "    \"RMSE\": np.round(rmse_train, 3),\n",
    "    \"MAE\": np.round(mae_train, 3),\n",
    "    \"MAPE\": np.round(mape_train, 3),\n",
    "}\n",
    "validation_metrics = {\n",
    "    \"Algorithm\": \"Linear Regression\",\n",
    "    \"R-Squared\": np.round(r2_val, 3),\n",
    "    \"MSE\": np.round(mse_val, 3),\n",
    "    \"RMSE\": np.round(rmse_val, 3),\n",
    "    \"MAE\": np.round(mae_val, 3),\n",
    "    \"MAPE\": np.round(mape_val, 3),\n",
    "}\n",
    "test_metrics = {\n",
    "    \"Algorithm\": \"Linear Regression\",\n",
    "    \"R-Squared\": np.round(r2_test, 3),\n",
    "    \"MSE\": np.round(mse_test, 3),\n",
    "    \"RMSE\": np.round(rmse_test, 3),\n",
    "    \"MAE\": np.round(mae_test, 3),\n",
    "    \"MAPE\": np.round(mape_test, 3),\n",
    "}\n",
    "\n",
    "pd.DataFrame(train_metrics, index=[0]).to_csv(\n",
    "    \"./reg_train_metrics.csv\", mode=\"a\", header=False\n",
    ")\n",
    "pd.DataFrame(validation_metrics, index=[0]).to_csv(\n",
    "    \"./reg_validation_metrics.csv\", mode=\"a\", header=False\n",
    ")\n",
    "pd.DataFrame(test_metrics, index=[0]).to_csv(\n",
    "    \"./reg_test_metrics.csv\", mode=\"a\", header=False)"
   ]
  }
 ],
 "metadata": {
  "kernelspec": {
   "display_name": "ensaio_ML",
   "language": "python",
   "name": "python3"
  },
  "language_info": {
   "codemirror_mode": {
    "name": "ipython",
    "version": 3
   },
   "file_extension": ".py",
   "mimetype": "text/x-python",
   "name": "python",
   "nbconvert_exporter": "python",
   "pygments_lexer": "ipython3",
   "version": "3.12.7"
  }
 },
 "nbformat": 4,
 "nbformat_minor": 2
}
