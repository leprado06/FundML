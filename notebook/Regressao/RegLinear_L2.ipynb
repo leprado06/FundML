{
 "cells": [
  {
   "cell_type": "markdown",
   "metadata": {},
   "source": [
    "# Imports"
   ]
  },
  {
   "cell_type": "code",
   "execution_count": 23,
   "metadata": {},
   "outputs": [],
   "source": [
    "import pandas   as pd\n",
    "import numpy    as np\n",
    "\n",
    "from sklearn            import metrics          as mt\n",
    "from sklearn            import linear_model     as lm\n",
    "from sklearn            import model_selection  as ms"
   ]
  },
  {
   "cell_type": "markdown",
   "metadata": {},
   "source": [
    "# Load Dataset"
   ]
  },
  {
   "cell_type": "code",
   "execution_count": 24,
   "metadata": {},
   "outputs": [],
   "source": [
    "#Lendo arquivo CSV de Treino\n",
    "x_train = pd.read_csv('../../dataset/reg/X_training.csv')\n",
    "y_train = pd.read_csv('../../dataset/reg/y_training.csv')\n",
    "\n",
    "#Lendo arquivo CSV de teste\n",
    "x_test = pd.read_csv('../../dataset/reg/X_test.csv')\n",
    "y_test = pd.read_csv('../../dataset/reg/y_test.csv')\n",
    "\n",
    "#Lendo arquivo CSV de Validação\n",
    "x_val = pd.read_csv('../../dataset/reg/X_validation.csv')\n",
    "y_val = pd.read_csv('../../dataset/reg/y_val.csv')"
   ]
  },
  {
   "cell_type": "code",
   "execution_count": 25,
   "metadata": {},
   "outputs": [],
   "source": [
    "#Preparação dos dados\n",
    "\n",
    "y_train = y_train.values.ravel()\n",
    "y_val = y_val.values.ravel()"
   ]
  },
  {
   "cell_type": "code",
   "execution_count": 26,
   "metadata": {},
   "outputs": [
    {
     "data": {
      "text/html": [
       "<div>\n",
       "<style scoped>\n",
       "    .dataframe tbody tr th:only-of-type {\n",
       "        vertical-align: middle;\n",
       "    }\n",
       "\n",
       "    .dataframe tbody tr th {\n",
       "        vertical-align: top;\n",
       "    }\n",
       "\n",
       "    .dataframe thead th {\n",
       "        text-align: right;\n",
       "    }\n",
       "</style>\n",
       "<table border=\"1\" class=\"dataframe\">\n",
       "  <thead>\n",
       "    <tr style=\"text-align: right;\">\n",
       "      <th></th>\n",
       "      <th>song_duration_ms</th>\n",
       "      <th>acousticness</th>\n",
       "      <th>danceability</th>\n",
       "      <th>energy</th>\n",
       "      <th>instrumentalness</th>\n",
       "      <th>key</th>\n",
       "      <th>liveness</th>\n",
       "      <th>loudness</th>\n",
       "      <th>audio_mode</th>\n",
       "      <th>speechiness</th>\n",
       "      <th>tempo</th>\n",
       "      <th>time_signature</th>\n",
       "      <th>audio_valence</th>\n",
       "    </tr>\n",
       "  </thead>\n",
       "  <tbody>\n",
       "    <tr>\n",
       "      <th>0</th>\n",
       "      <td>0.205673</td>\n",
       "      <td>0.092100</td>\n",
       "      <td>0.720</td>\n",
       "      <td>0.802</td>\n",
       "      <td>0.000000</td>\n",
       "      <td>0.090909</td>\n",
       "      <td>0.694</td>\n",
       "      <td>0.431778</td>\n",
       "      <td>1</td>\n",
       "      <td>0.0582</td>\n",
       "      <td>0.103876</td>\n",
       "      <td>0.8</td>\n",
       "      <td>0.723</td>\n",
       "    </tr>\n",
       "    <tr>\n",
       "      <th>1</th>\n",
       "      <td>-0.240409</td>\n",
       "      <td>0.737000</td>\n",
       "      <td>0.483</td>\n",
       "      <td>0.412</td>\n",
       "      <td>0.000000</td>\n",
       "      <td>0.636364</td>\n",
       "      <td>0.116</td>\n",
       "      <td>-0.262732</td>\n",
       "      <td>1</td>\n",
       "      <td>0.0402</td>\n",
       "      <td>1.711532</td>\n",
       "      <td>0.6</td>\n",
       "      <td>0.247</td>\n",
       "    </tr>\n",
       "    <tr>\n",
       "      <th>2</th>\n",
       "      <td>-0.125770</td>\n",
       "      <td>0.274000</td>\n",
       "      <td>0.671</td>\n",
       "      <td>0.565</td>\n",
       "      <td>0.000065</td>\n",
       "      <td>1.000000</td>\n",
       "      <td>0.370</td>\n",
       "      <td>0.013612</td>\n",
       "      <td>0</td>\n",
       "      <td>0.1600</td>\n",
       "      <td>1.009176</td>\n",
       "      <td>0.8</td>\n",
       "      <td>0.561</td>\n",
       "    </tr>\n",
       "    <tr>\n",
       "      <th>3</th>\n",
       "      <td>-0.580967</td>\n",
       "      <td>0.002340</td>\n",
       "      <td>0.704</td>\n",
       "      <td>0.529</td>\n",
       "      <td>0.874000</td>\n",
       "      <td>1.000000</td>\n",
       "      <td>0.370</td>\n",
       "      <td>-0.266382</td>\n",
       "      <td>0</td>\n",
       "      <td>0.0416</td>\n",
       "      <td>0.666173</td>\n",
       "      <td>0.8</td>\n",
       "      <td>0.507</td>\n",
       "    </tr>\n",
       "    <tr>\n",
       "      <th>4</th>\n",
       "      <td>-0.688566</td>\n",
       "      <td>0.000414</td>\n",
       "      <td>0.354</td>\n",
       "      <td>0.910</td>\n",
       "      <td>0.205000</td>\n",
       "      <td>0.090909</td>\n",
       "      <td>0.456</td>\n",
       "      <td>0.422914</td>\n",
       "      <td>1</td>\n",
       "      <td>0.0430</td>\n",
       "      <td>1.182630</td>\n",
       "      <td>0.8</td>\n",
       "      <td>0.362</td>\n",
       "    </tr>\n",
       "  </tbody>\n",
       "</table>\n",
       "</div>"
      ],
      "text/plain": [
       "   song_duration_ms  acousticness  danceability  energy  instrumentalness  \\\n",
       "0          0.205673      0.092100         0.720   0.802          0.000000   \n",
       "1         -0.240409      0.737000         0.483   0.412          0.000000   \n",
       "2         -0.125770      0.274000         0.671   0.565          0.000065   \n",
       "3         -0.580967      0.002340         0.704   0.529          0.874000   \n",
       "4         -0.688566      0.000414         0.354   0.910          0.205000   \n",
       "\n",
       "        key  liveness  loudness  audio_mode  speechiness     tempo  \\\n",
       "0  0.090909     0.694  0.431778           1       0.0582  0.103876   \n",
       "1  0.636364     0.116 -0.262732           1       0.0402  1.711532   \n",
       "2  1.000000     0.370  0.013612           0       0.1600  1.009176   \n",
       "3  1.000000     0.370 -0.266382           0       0.0416  0.666173   \n",
       "4  0.090909     0.456  0.422914           1       0.0430  1.182630   \n",
       "\n",
       "   time_signature  audio_valence  \n",
       "0             0.8          0.723  \n",
       "1             0.6          0.247  \n",
       "2             0.8          0.561  \n",
       "3             0.8          0.507  \n",
       "4             0.8          0.362  "
      ]
     },
     "execution_count": 26,
     "metadata": {},
     "output_type": "execute_result"
    }
   ],
   "source": [
    "x_train.head()"
   ]
  },
  {
   "cell_type": "markdown",
   "metadata": {},
   "source": [
    "# Model Training - Ridge (Training Data)"
   ]
  },
  {
   "cell_type": "markdown",
   "metadata": {},
   "source": [
    "## Definindo os melhores parametros do Ridge"
   ]
  },
  {
   "cell_type": "code",
   "execution_count": 27,
   "metadata": {},
   "outputs": [
    {
     "name": "stdout",
     "output_type": "stream",
     "text": [
      "Melhores parâmetros: {'alpha': np.float64(10.0), 'max_iter': 1000}\n",
      "Melhor erro quadrático médio (MSE): 456.9566570083158\n",
      "Acurácia do modelo no conjunto de teste: 0.05217878734577219\n"
     ]
    }
   ],
   "source": [
    "# Definindo os hiperparâmetros para o GridSearch\n",
    "param_grid = {\n",
    "    'alpha': np.logspace(-4, 4, 9),  # Testar valores de alpha entre 10^-4 e 10^4\n",
    "    'max_iter': [1000, 5000, 10000, 20000]  # Valores típicos para max_iter\n",
    "}\n",
    "\n",
    "# Configurar a busca em grade\n",
    "grid_search = ms.GridSearchCV(estimator=lm.Ridge(), \n",
    "                              param_grid=param_grid, \n",
    "                              cv=5, \n",
    "                              scoring='neg_mean_squared_error', \n",
    "                              n_jobs=-1)\n",
    "\n",
    "# Ajustar o modelo\n",
    "grid_search.fit(x_train, y_train)\n",
    "\n",
    "# Exibir os melhores parâmetros e o desempenho\n",
    "print(f\"Melhores parâmetros: {grid_search.best_params_}\")\n",
    "print(f\"Melhor erro quadrático médio (MSE): {-grid_search.best_score_}\")\n",
    "\n",
    "# Avaliar o modelo no conjunto de teste\n",
    "best_ridge = grid_search.best_estimator_\n",
    "test_score = best_ridge.score(x_test, y_test)\n",
    "print(f\"Acurácia do modelo no conjunto de teste: {test_score}\")"
   ]
  },
  {
   "cell_type": "markdown",
   "metadata": {},
   "source": [
    "## Model Training"
   ]
  },
  {
   "cell_type": "code",
   "execution_count": 28,
   "metadata": {},
   "outputs": [
    {
     "name": "stdout",
     "output_type": "stream",
     "text": [
      "R2 Score: 0.046\n",
      "MSE: 456.020\n",
      "RMSE: 21.355\n",
      "MAE: 16.999\n",
      "MAPE: 8.66%\n"
     ]
    }
   ],
   "source": [
    "#define\n",
    "l2 = lm.Ridge(alpha=grid_search.best_params_['alpha'],\n",
    "              max_iter=grid_search.best_params_['max_iter'])\n",
    "\n",
    "#fit\n",
    "l2.fit(x_train,y_train)\n",
    "yhat_train = l2.predict(x_train)\n",
    "\n",
    "#performance\n",
    "\n",
    "r2_train = mt.r2_score(y_train,yhat_train)\n",
    "print(f'R2 Score: {r2_train:.3f}')\n",
    "\n",
    "mse_train = mt.mean_squared_error(y_train,yhat_train)\n",
    "print(f'MSE: {mse_train:.3f}')\n",
    "\n",
    "rmse_train = np.sqrt(mse_train)\n",
    "print(f'RMSE: {rmse_train:.3f}')\n",
    "\n",
    "mae_train = mt.mean_absolute_error(y_train,yhat_train)\n",
    "print(f'MAE: {mae_train:.3f}')\n",
    "\n",
    "mape_train = mt.mean_absolute_percentage_error(y_train,yhat_train)\n",
    "print(f'MAPE: {mape_train:.2f}%')\n",
    "\n"
   ]
  },
  {
   "cell_type": "markdown",
   "metadata": {},
   "source": [
    "# Model Training - Ridge (Validation Data)"
   ]
  },
  {
   "cell_type": "code",
   "execution_count": 29,
   "metadata": {},
   "outputs": [
    {
     "name": "stdout",
     "output_type": "stream",
     "text": [
      "R2 Score: 0.040\n",
      "MSE: 458.441\n",
      "RMSE: 21.411\n",
      "MAE: 17.038\n",
      "MAPE: 8.68%\n"
     ]
    }
   ],
   "source": [
    "#define\n",
    "l2 = lm.Ridge(alpha=grid_search.best_params_['alpha'],\n",
    "              max_iter=grid_search.best_params_['max_iter'])\n",
    "\n",
    "#fit\n",
    "l2.fit(x_train,y_train)\n",
    "yhat_val = l2.predict(x_val)\n",
    "\n",
    "#performance\n",
    "\n",
    "r2_val = mt.r2_score(y_val,yhat_val)\n",
    "print(f'R2 Score: {r2_val:.3f}')\n",
    "\n",
    "mse_val = mt.mean_squared_error(y_val,yhat_val)\n",
    "print(f'MSE: {mse_val:.3f}')\n",
    "\n",
    "rmse_val = np.sqrt(mse_val)\n",
    "print(f'RMSE: {rmse_val:.3f}')\n",
    "\n",
    "mae_val = mt.mean_absolute_error(y_val,yhat_val)\n",
    "print(f'MAE: {mae_val:.3f}')\n",
    "\n",
    "mape_val = mt.mean_absolute_percentage_error(y_val,yhat_val)\n",
    "print(f'MAPE: {mape_val:.2f}%')"
   ]
  },
  {
   "cell_type": "markdown",
   "metadata": {},
   "source": [
    "# Model Training - Ridge (Test Data)"
   ]
  },
  {
   "cell_type": "code",
   "execution_count": 30,
   "metadata": {},
   "outputs": [
    {
     "name": "stdout",
     "output_type": "stream",
     "text": [
      "R2 Score: 0.051\n",
      "MSE: 462.006\n",
      "RMSE: 21.494\n",
      "MAE: 17.142\n",
      "MAPE: 8.54%\n"
     ]
    },
    {
     "name": "stderr",
     "output_type": "stream",
     "text": [
      "/home/leprado06/.pyenv/versions/ensaio_ML/lib/python3.12/site-packages/sklearn/utils/validation.py:2732: UserWarning: X has feature names, but Ridge was fitted without feature names\n",
      "  warnings.warn(\n"
     ]
    }
   ],
   "source": [
    "#define\n",
    "l2 = lm.Ridge(alpha=grid_search.best_params_['alpha'],\n",
    "              max_iter=grid_search.best_params_['max_iter'])\n",
    "\n",
    "#fit\n",
    "l2.fit(np.concatenate((x_train,x_val)),\n",
    "       np.concatenate((y_train,y_val)))\n",
    "yhat_test = l2.predict(x_test)\n",
    "\n",
    "#performance\n",
    "r2_test = mt.r2_score(y_test,yhat_test)\n",
    "print(f'R2 Score: {r2_test:.3f}')\n",
    "\n",
    "mse_test = mt.mean_squared_error(y_test,yhat_test)\n",
    "print(f'MSE: {mse_test:.3f}')\n",
    "\n",
    "rmse_test = np.sqrt(mse_test)\n",
    "print(f'RMSE: {rmse_test:.3f}')\n",
    "\n",
    "mae_test = mt.mean_absolute_error(y_test,yhat_test)\n",
    "print(f'MAE: {mae_test:.3f}')\n",
    "\n",
    "mape_test = mt.mean_absolute_percentage_error(y_test,yhat_test)\n",
    "print(f'MAPE: {mape_test:.2f}%')"
   ]
  },
  {
   "cell_type": "markdown",
   "metadata": {},
   "source": [
    "# Save Results"
   ]
  },
  {
   "cell_type": "code",
   "execution_count": 31,
   "metadata": {},
   "outputs": [],
   "source": [
    "train_metrics = {\n",
    "    \"Algorithm\": \"Linear Regression - Ridge\",\n",
    "    \"R-Squared\": np.round(r2_train, 3),\n",
    "    \"MSE\": np.round(mse_train, 3),\n",
    "    \"RMSE\": np.round(rmse_train, 3),\n",
    "    \"MAE\": np.round(mae_train, 3),\n",
    "    \"MAPE\": np.round(mape_train, 3),\n",
    "}\n",
    "validation_metrics = {\n",
    "    \"Algorithm\": \"Linear Regression - Ridge\",\n",
    "    \"R-Squared\": np.round(r2_val, 3),\n",
    "    \"MSE\": np.round(mse_val, 3),\n",
    "    \"RMSE\": np.round(rmse_val, 3),\n",
    "    \"MAE\": np.round(mae_val, 3),\n",
    "    \"MAPE\": np.round(mape_val, 3),\n",
    "}\n",
    "test_metrics = {\n",
    "    \"Algorithm\": \"Linear Regression - Ridge\",\n",
    "    \"R-Squared\": np.round(r2_test, 3),\n",
    "    \"MSE\": np.round(mse_test, 3),\n",
    "    \"RMSE\": np.round(rmse_test, 3),\n",
    "    \"MAE\": np.round(mae_test, 3),\n",
    "    \"MAPE\": np.round(mape_test, 3),\n",
    "}\n",
    "\n",
    "pd.DataFrame(train_metrics, index=[0]).to_csv(\n",
    "    \"./reg_train_metrics.csv\", mode=\"a\", header=False\n",
    ")\n",
    "pd.DataFrame(validation_metrics, index=[0]).to_csv(\n",
    "    \"./reg_validation_metrics.csv\", mode=\"a\", header=False\n",
    ")\n",
    "pd.DataFrame(test_metrics, index=[0]).to_csv(\n",
    "    \"./reg_test_metrics.csv\", mode=\"a\", header=False)"
   ]
  }
 ],
 "metadata": {
  "kernelspec": {
   "display_name": "ensaio_ML",
   "language": "python",
   "name": "python3"
  },
  "language_info": {
   "codemirror_mode": {
    "name": "ipython",
    "version": 3
   },
   "file_extension": ".py",
   "mimetype": "text/x-python",
   "name": "python",
   "nbconvert_exporter": "python",
   "pygments_lexer": "ipython3",
   "version": "3.12.7"
  }
 },
 "nbformat": 4,
 "nbformat_minor": 2
}
