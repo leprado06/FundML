{
 "cells": [
  {
   "cell_type": "markdown",
   "metadata": {},
   "source": [
    "# Imports"
   ]
  },
  {
   "cell_type": "code",
   "execution_count": 1,
   "metadata": {},
   "outputs": [],
   "source": [
    "import pandas   as pd\n",
    "import numpy    as np\n",
    "\n",
    "from sklearn            import metrics          as mt\n",
    "from sklearn            import linear_model     as lm\n",
    "from sklearn            import preprocessing    as pp\n",
    "from sklearn            import model_selection  as ms\n"
   ]
  },
  {
   "cell_type": "markdown",
   "metadata": {},
   "source": [
    "# Load Dataset"
   ]
  },
  {
   "cell_type": "code",
   "execution_count": 2,
   "metadata": {},
   "outputs": [],
   "source": [
    "#Lendo arquivo CSV de Treino\n",
    "x_train = pd.read_csv('../../dataset/reg/X_training.csv')\n",
    "y_train = pd.read_csv('../../dataset/reg/y_training.csv')\n",
    "\n",
    "#Lendo arquivo CSV de teste\n",
    "x_test = pd.read_csv('../../dataset/reg/X_test.csv')\n",
    "y_test = pd.read_csv('../../dataset/reg/y_test.csv')\n",
    "\n",
    "#Lendo arquivo CSV de Validação\n",
    "x_val = pd.read_csv('../../dataset/reg/X_validation.csv')\n",
    "y_val = pd.read_csv('../../dataset/reg/y_val.csv')"
   ]
  },
  {
   "cell_type": "code",
   "execution_count": 3,
   "metadata": {},
   "outputs": [],
   "source": [
    "#Preparação dos dados\n",
    "\n",
    "y_train = y_train.values.ravel()\n",
    "y_val = y_val.values.ravel()"
   ]
  },
  {
   "cell_type": "markdown",
   "metadata": {},
   "source": [
    "# Model Training - ElasticNet - Polynomial (Training Data)"
   ]
  },
  {
   "cell_type": "markdown",
   "metadata": {},
   "source": [
    "## Definindo os melhores parametros para o ElasticNet"
   ]
  },
  {
   "cell_type": "code",
   "execution_count": 4,
   "metadata": {},
   "outputs": [],
   "source": [
    "# features\n",
    "poly_features = pp.PolynomialFeatures( degree=2, include_bias=False )\n",
    "x_poly = poly_features.fit_transform( x_train )"
   ]
  },
  {
   "cell_type": "code",
   "execution_count": null,
   "metadata": {},
   "outputs": [],
   "source": [
    "# Definindo os hiperparâmetros para o GridSearch\n",
    "param_grid = {\n",
    "    'alpha': np.logspace(-4, 4, 9),  # Testar valores de alpha entre 10^-4 e 10^4\n",
    "    'max_iter': [1000, 5000, 10000, 20000],  # Valores típicos para max_iter\n",
    "    'l1_ratio': np.linspace(0, 1, 11)\n",
    "}\n",
    "\n",
    "# Configurar a busca em grade\n",
    "grid_search = ms.GridSearchCV(estimator=lm.ElasticNet(), \n",
    "                              param_grid=param_grid, \n",
    "                              cv=5, \n",
    "                              scoring='neg_mean_squared_error', \n",
    "                              n_jobs=-1)\n",
    "\n",
    "# Ajustar o modelo\n",
    "grid_search.fit(x_poly, y_train)\n",
    "\n",
    "# Exibir os melhores parâmetros e o desempenho\n",
    "print(f\"Melhores parâmetros: {grid_search.best_params_}\")\n",
    "print(f\"Melhor erro quadrático médio (MSE): {-grid_search.best_score_}\")\n"
   ]
  },
  {
   "cell_type": "markdown",
   "metadata": {},
   "source": [
    "## Model Training"
   ]
  },
  {
   "cell_type": "code",
   "execution_count": 6,
   "metadata": {},
   "outputs": [
    {
     "name": "stdout",
     "output_type": "stream",
     "text": [
      "R2 Score: 0.092\n",
      "MSE: 434.037\n",
      "RMSE: 20.834\n",
      "MAE: 16.485\n",
      "MAPE: 8.39%\n"
     ]
    },
    {
     "name": "stderr",
     "output_type": "stream",
     "text": [
      "/home/leprado06/.pyenv/versions/ensaio_ML/lib/python3.12/site-packages/sklearn/linear_model/_coordinate_descent.py:695: ConvergenceWarning: Objective did not converge. You might want to increase the number of iterations, check the scale of the features or consider increasing regularisation. Duality gap: 1.093e+05, tolerance: 5.042e+02\n",
      "  model = cd_fast.enet_coordinate_descent(\n"
     ]
    }
   ],
   "source": [
    "# define\n",
    "ElasticNet = lm.ElasticNet( alpha=grid_search.best_params_['alpha'],\n",
    "                            max_iter=grid_search.best_params_['max_iter'],\n",
    "                            l1_ratio=grid_search.best_params_['l1_ratio'])\n",
    "\n",
    "# fit\n",
    "ElasticNet.fit( x_poly, y_train )\n",
    "yhat_train = ElasticNet.predict( x_poly )\n",
    "\n",
    "# performance\n",
    "r2_train = mt.r2_score(y_train,yhat_train)\n",
    "print(f'R2 Score: {r2_train:.3f}')\n",
    "\n",
    "mse_train = mt.mean_squared_error(y_train,yhat_train)\n",
    "print(f'MSE: {mse_train:.3f}')\n",
    "\n",
    "rmse_train = np.sqrt(mse_train)\n",
    "print(f'RMSE: {rmse_train:.3f}')\n",
    "\n",
    "mae_train = mt.mean_absolute_error(y_train,yhat_train)\n",
    "print(f'MAE: {mae_train:.3f}')\n",
    "\n",
    "mape_train = mt.mean_absolute_percentage_error(y_train,yhat_train)\n",
    "print(f'MAPE: {mape_train:.2f}%')"
   ]
  },
  {
   "cell_type": "markdown",
   "metadata": {},
   "source": [
    "# Model Training - ElasticNet - Polynomial (Validation Data)"
   ]
  },
  {
   "cell_type": "code",
   "execution_count": 7,
   "metadata": {},
   "outputs": [
    {
     "name": "stdout",
     "output_type": "stream",
     "text": [
      "R2 Score: 0.068\n",
      "MSE: 445.115\n",
      "RMSE: 21.098\n",
      "MAE: 16.738\n",
      "MAPE: 8.58%\n"
     ]
    },
    {
     "name": "stderr",
     "output_type": "stream",
     "text": [
      "/home/leprado06/.pyenv/versions/ensaio_ML/lib/python3.12/site-packages/sklearn/linear_model/_coordinate_descent.py:695: ConvergenceWarning: Objective did not converge. You might want to increase the number of iterations, check the scale of the features or consider increasing regularisation. Duality gap: 1.093e+05, tolerance: 5.042e+02\n",
      "  model = cd_fast.enet_coordinate_descent(\n"
     ]
    }
   ],
   "source": [
    "# features\n",
    "poly_features = pp.PolynomialFeatures( degree=2, include_bias=False )\n",
    "x_polytrain = poly_features.fit_transform( x_train )\n",
    "x_polyval = poly_features.fit_transform(x_val)\n",
    "\n",
    "# define\n",
    "ElasticNet = lm.ElasticNet( alpha=grid_search.best_params_['alpha'],\n",
    "                            max_iter=grid_search.best_params_['max_iter'],\n",
    "                            l1_ratio=grid_search.best_params_['l1_ratio'])\n",
    "\n",
    "# fit\n",
    "ElasticNet.fit( x_polytrain, y_train )\n",
    "yhat_val = ElasticNet.predict( x_polyval )\n",
    "\n",
    "# performance\n",
    "r2_val = mt.r2_score(y_val,yhat_val)\n",
    "print(f'R2 Score: {r2_val:.3f}')\n",
    "\n",
    "mse_val = mt.mean_squared_error(y_val,yhat_val)\n",
    "print(f'MSE: {mse_val:.3f}')\n",
    "\n",
    "rmse_val = np.sqrt(mse_val)\n",
    "print(f'RMSE: {rmse_val:.3f}')\n",
    "\n",
    "mae_val = mt.mean_absolute_error(y_val,yhat_val)\n",
    "print(f'MAE: {mae_val:.3f}')\n",
    "\n",
    "mape_val = mt.mean_absolute_percentage_error(y_val,yhat_val)\n",
    "print(f'MAPE: {mape_val:.2f}%')"
   ]
  },
  {
   "cell_type": "markdown",
   "metadata": {},
   "source": [
    "# Model Training - ElasticNet - Polynomial (Test Data)"
   ]
  },
  {
   "cell_type": "code",
   "execution_count": 8,
   "metadata": {},
   "outputs": [
    {
     "name": "stdout",
     "output_type": "stream",
     "text": [
      "R2 Score: 0.068\n",
      "MSE: 443.763\n",
      "RMSE: 21.098\n",
      "MAE: 16.759\n",
      "MAPE: 8.33%\n"
     ]
    },
    {
     "name": "stderr",
     "output_type": "stream",
     "text": [
      "/home/leprado06/.pyenv/versions/ensaio_ML/lib/python3.12/site-packages/sklearn/linear_model/_coordinate_descent.py:695: ConvergenceWarning: Objective did not converge. You might want to increase the number of iterations, check the scale of the features or consider increasing regularisation. Duality gap: 2.381e+05, tolerance: 7.200e+02\n",
      "  model = cd_fast.enet_coordinate_descent(\n"
     ]
    }
   ],
   "source": [
    "# features\n",
    "poly_features = pp.PolynomialFeatures( degree=2, include_bias=False )\n",
    "x_polytrain = poly_features.fit_transform( np.concatenate(( x_train,x_val )))\n",
    "x_polytest = poly_features.fit_transform(x_test)\n",
    "\n",
    "# define\n",
    "ElasticNet = lm.ElasticNet( alpha=grid_search.best_params_['alpha'],\n",
    "                            max_iter=grid_search.best_params_['max_iter'],\n",
    "                            l1_ratio=grid_search.best_params_['l1_ratio'])\n",
    "\n",
    "# fit\n",
    "ElasticNet.fit( x_polytrain, np.concatenate((y_train,y_val)) )\n",
    "yhat_test = ElasticNet.predict( x_polytest )\n",
    "\n",
    "# performance\n",
    "r2_test = mt.r2_score(y_test,yhat_test)\n",
    "print(f'R2 Score: {r2_val:.3f}')\n",
    "\n",
    "mse_test = mt.mean_squared_error(y_test,yhat_test)\n",
    "print(f'MSE: {mse_test:.3f}')\n",
    "\n",
    "rmse_test = np.sqrt(mse_val)\n",
    "print(f'RMSE: {rmse_test:.3f}')\n",
    "\n",
    "mae_test = mt.mean_absolute_error(y_test,yhat_test)\n",
    "print(f'MAE: {mae_test:.3f}')\n",
    "\n",
    "mape_test = mt.mean_absolute_percentage_error(y_test,yhat_test)\n",
    "print(f'MAPE: {mape_test:.2f}%')"
   ]
  },
  {
   "cell_type": "markdown",
   "metadata": {},
   "source": [
    "# Save Results"
   ]
  },
  {
   "cell_type": "code",
   "execution_count": 9,
   "metadata": {},
   "outputs": [],
   "source": [
    "train_metrics = {\n",
    "    \"Algorithm\": \"Polynomial Regression - ElasticNet\",\n",
    "    \"R-Squared\": np.round(r2_train, 3),\n",
    "    \"MSE\": np.round(mse_train, 3),\n",
    "    \"RMSE\": np.round(rmse_train, 3),\n",
    "    \"MAE\": np.round(mae_train, 3),\n",
    "    \"MAPE\": np.round(mape_train, 3),\n",
    "}\n",
    "validation_metrics = {\n",
    "    \"Algorithm\": \"Polynomial Regression - ElasticNet\",\n",
    "    \"R-Squared\": np.round(r2_val, 3),\n",
    "    \"MSE\": np.round(mse_val, 3),\n",
    "    \"RMSE\": np.round(rmse_val, 3),\n",
    "    \"MAE\": np.round(mae_val, 3),\n",
    "    \"MAPE\": np.round(mape_val, 3),\n",
    "}\n",
    "test_metrics = {\n",
    "    \"Algorithm\": \"Polynomial Regression - ElasticNet\",\n",
    "    \"R-Squared\": np.round(r2_test, 3),\n",
    "    \"MSE\": np.round(mse_test, 3),\n",
    "    \"RMSE\": np.round(rmse_test, 3),\n",
    "    \"MAE\": np.round(mae_test, 3),\n",
    "    \"MAPE\": np.round(mape_test, 3),\n",
    "}\n",
    "\n",
    "pd.DataFrame(train_metrics, index=[0]).to_csv(\n",
    "    \"./reg_train_metrics.csv\", mode=\"a\", header=False\n",
    ")\n",
    "pd.DataFrame(validation_metrics, index=[0]).to_csv(\n",
    "    \"./reg_validation_metrics.csv\", mode=\"a\", header=False\n",
    ")\n",
    "pd.DataFrame(test_metrics, index=[0]).to_csv(\n",
    "    \"./reg_test_metrics.csv\", mode=\"a\", header=False)"
   ]
  }
 ],
 "metadata": {
  "kernelspec": {
   "display_name": "ensaio_ML",
   "language": "python",
   "name": "python3"
  },
  "language_info": {
   "codemirror_mode": {
    "name": "ipython",
    "version": 3
   },
   "file_extension": ".py",
   "mimetype": "text/x-python",
   "name": "python",
   "nbconvert_exporter": "python",
   "pygments_lexer": "ipython3",
   "version": "3.12.7"
  }
 },
 "nbformat": 4,
 "nbformat_minor": 2
}
