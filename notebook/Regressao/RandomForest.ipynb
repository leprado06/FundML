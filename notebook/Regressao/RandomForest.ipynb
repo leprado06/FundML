{
 "cells": [
  {
   "cell_type": "markdown",
   "metadata": {},
   "source": [
    "# Imports"
   ]
  },
  {
   "cell_type": "code",
   "execution_count": 1,
   "metadata": {},
   "outputs": [],
   "source": [
    "import pandas   as pd\n",
    "import numpy    as np\n",
    "\n",
    "from sklearn            import metrics          as mt\n",
    "from sklearn            import ensemble         as en\n",
    "from sklearn            import model_selection  as ms"
   ]
  },
  {
   "cell_type": "markdown",
   "metadata": {},
   "source": [
    "# Load Dataset"
   ]
  },
  {
   "cell_type": "code",
   "execution_count": 2,
   "metadata": {},
   "outputs": [],
   "source": [
    "#Lendo arquivo CSV de Treino\n",
    "x_train = pd.read_csv('../../dataset/reg/X_training.csv')\n",
    "y_train = pd.read_csv('../../dataset/reg/y_training.csv')\n",
    "\n",
    "#Lendo arquivo CSV de teste\n",
    "x_test = pd.read_csv('../../dataset/reg/X_test.csv')\n",
    "y_test = pd.read_csv('../../dataset/reg/y_test.csv')\n",
    "\n",
    "#Lendo arquivo CSV de Validação\n",
    "x_val = pd.read_csv('../../dataset/reg/X_validation.csv')\n",
    "y_val = pd.read_csv('../../dataset/reg/y_val.csv')"
   ]
  },
  {
   "cell_type": "code",
   "execution_count": 3,
   "metadata": {},
   "outputs": [],
   "source": [
    "#Preparação dos dados\n",
    "\n",
    "y_train = y_train.values.ravel()\n",
    "y_val = y_val.values.ravel()"
   ]
  },
  {
   "cell_type": "markdown",
   "metadata": {},
   "source": [
    "# Model Training - RandomForestRegressor (Training Data)"
   ]
  },
  {
   "cell_type": "markdown",
   "metadata": {},
   "source": [
    "## Definindo os melhores parametros da RandomForest"
   ]
  },
  {
   "cell_type": "code",
   "execution_count": null,
   "metadata": {},
   "outputs": [],
   "source": [
    "# Definindo os hiperparâmetros para o GridSearch\n",
    "param_grid = {\n",
    "    'n_estimators': [50, 100, 200, 500],\n",
    "    'max_depth': [None, 10, 20, 30, 50]\n",
    "}\n",
    "\n",
    "# Configuração do GridSearchCV\n",
    "grid_search = ms.GridSearchCV(\n",
    "    estimator = en.RandomForestRegressor(),\n",
    "    param_grid = param_grid,\n",
    "    cv = 5,  # Validação cruzada com 5 folds\n",
    "    scoring = 'neg_root_mean_squared_error',  # Métrica de avaliação\n",
    "    n_jobs = -1  # Paralelismo total para acelerar\n",
    ")\n",
    "\n",
    "# Ajuste aos dados\n",
    "grid_search.fit(x_train, y_train)\n",
    "\n",
    "# Melhores parâmetros\n",
    "print(\"Melhores parâmetros:\", grid_search.best_params_)"
   ]
  },
  {
   "cell_type": "markdown",
   "metadata": {},
   "source": [
    "## Model Training"
   ]
  },
  {
   "cell_type": "code",
   "execution_count": 5,
   "metadata": {},
   "outputs": [
    {
     "name": "stdout",
     "output_type": "stream",
     "text": [
      "R2 Score: 0.906\n",
      "MSE: 44.755\n",
      "RMSE: 6.690\n",
      "MAE: 4.797\n",
      "MAPE: 2.63%\n"
     ]
    }
   ],
   "source": [
    "#define\n",
    "model = en.RandomForestRegressor(   n_estimators=grid_search.best_params_['n_estimators'],\n",
    "                                    max_depth=grid_search.best_params_['max_depth'],\n",
    "                                    random_state=0  )\n",
    "\n",
    "#fit\n",
    "model.fit(x_train,y_train)\n",
    "yhat_train = model.predict(x_train)\n",
    "\n",
    "#performance\n",
    "r2_train = mt.r2_score(y_train,yhat_train)\n",
    "print(f'R2 Score: {r2_train:.3f}')\n",
    "\n",
    "mse_train = mt.mean_squared_error(y_train,yhat_train)\n",
    "print(f'MSE: {mse_train:.3f}')\n",
    "\n",
    "rmse_train = np.sqrt(mse_train)\n",
    "print(f'RMSE: {rmse_train:.3f}')\n",
    "\n",
    "mae_train = mt.mean_absolute_error(y_train,yhat_train)\n",
    "print(f'MAE: {mae_train:.3f}')\n",
    "\n",
    "mape_train = mt.mean_absolute_percentage_error(y_train,yhat_train)\n",
    "print(f'MAPE: {mape_train:.2f}%')"
   ]
  },
  {
   "cell_type": "markdown",
   "metadata": {},
   "source": [
    "# Model Training - RandomForestRegressor (Validation Data)"
   ]
  },
  {
   "cell_type": "code",
   "execution_count": 6,
   "metadata": {},
   "outputs": [
    {
     "name": "stdout",
     "output_type": "stream",
     "text": [
      "R2 Score: 0.341\n",
      "MSE: 314.827\n",
      "RMSE: 17.743\n",
      "MAE: 12.929\n",
      "MAPE: 7.04%\n"
     ]
    }
   ],
   "source": [
    "#define\n",
    "model = en.RandomForestRegressor(   n_estimators=grid_search.best_params_['n_estimators'],\n",
    "                                    max_depth=grid_search.best_params_['max_depth'],\n",
    "                                    random_state=0  )\n",
    "\n",
    "#fit\n",
    "model.fit(x_train,y_train)\n",
    "yhat_val = model.predict(x_val)\n",
    "\n",
    "#performance\n",
    "r2_val = mt.r2_score(y_val,yhat_val)\n",
    "print(f'R2 Score: {r2_val:.3f}')\n",
    "\n",
    "mse_val = mt.mean_squared_error(y_val,yhat_val)\n",
    "print(f'MSE: {mse_val:.3f}')\n",
    "\n",
    "rmse_val = np.sqrt(mse_val)\n",
    "print(f'RMSE: {rmse_val:.3f}')\n",
    "\n",
    "mae_val = mt.mean_absolute_error(y_val,yhat_val)\n",
    "print(f'MAE: {mae_val:.3f}')\n",
    "\n",
    "mape_val = mt.mean_absolute_percentage_error(y_val,yhat_val)\n",
    "print(f'MAPE: {mape_val:.2f}%')"
   ]
  },
  {
   "cell_type": "markdown",
   "metadata": {},
   "source": [
    "# Model Training - RandomForestRegressor (Test Data)"
   ]
  },
  {
   "cell_type": "code",
   "execution_count": 7,
   "metadata": {},
   "outputs": [
    {
     "name": "stderr",
     "output_type": "stream",
     "text": [
      "/home/leprado06/.pyenv/versions/ensaio_ML/lib/python3.12/site-packages/sklearn/utils/validation.py:2732: UserWarning: X has feature names, but RandomForestRegressor was fitted without feature names\n",
      "  warnings.warn(\n"
     ]
    },
    {
     "name": "stdout",
     "output_type": "stream",
     "text": [
      "R2 Score: 0.409\n",
      "MSE: 287.964\n",
      "RMSE: 16.969\n",
      "MAE: 12.190\n",
      "MAPE: 6.33%\n"
     ]
    }
   ],
   "source": [
    "#define\n",
    "model = en.RandomForestRegressor(   n_estimators=grid_search.best_params_['n_estimators'],\n",
    "                                    max_depth=grid_search.best_params_['max_depth'],\n",
    "                                    random_state=0  )\n",
    "\n",
    "#fit\n",
    "model.fit(np.concatenate((x_train,x_val)),\n",
    "          np.concatenate((y_train,y_val)))\n",
    "yhat_test = model.predict(x_test)\n",
    "\n",
    "#performance\n",
    "r2_test = mt.r2_score(y_test,yhat_test)\n",
    "print(f'R2 Score: {r2_test:.3f}')\n",
    "\n",
    "mse_test = mt.mean_squared_error(y_test,yhat_test)\n",
    "print(f'MSE: {mse_test:.3f}')\n",
    "\n",
    "rmse_test = np.sqrt(mse_test)\n",
    "print(f'RMSE: {rmse_test:.3f}')\n",
    "\n",
    "mae_test = mt.mean_absolute_error(y_test,yhat_test)\n",
    "print(f'MAE: {mae_test:.3f}')\n",
    "\n",
    "mape_test = mt.mean_absolute_percentage_error(y_test,yhat_test)\n",
    "print(f'MAPE: {mape_test:.2f}%')"
   ]
  }
 ],
 "metadata": {
  "kernelspec": {
   "display_name": "ensaio_ML",
   "language": "python",
   "name": "python3"
  },
  "language_info": {
   "codemirror_mode": {
    "name": "ipython",
    "version": 3
   },
   "file_extension": ".py",
   "mimetype": "text/x-python",
   "name": "python",
   "nbconvert_exporter": "python",
   "pygments_lexer": "ipython3",
   "version": "3.12.7"
  }
 },
 "nbformat": 4,
 "nbformat_minor": 2
}
