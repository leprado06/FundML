{
 "cells": [
  {
   "cell_type": "markdown",
   "metadata": {},
   "source": [
    "# Imports"
   ]
  },
  {
   "cell_type": "code",
   "execution_count": 7,
   "metadata": {},
   "outputs": [],
   "source": [
    "import pandas   as pd\n",
    "import numpy    as np\n",
    "\n",
    "from matplotlib         import pyplot           as plt\n",
    "from sklearn            import metrics          as mt\n",
    "from sklearn            import ensemble         as en\n",
    "from sklearn            import model_selection  as ms"
   ]
  },
  {
   "cell_type": "markdown",
   "metadata": {},
   "source": [
    "# Load Dataset"
   ]
  },
  {
   "cell_type": "code",
   "execution_count": 8,
   "metadata": {},
   "outputs": [],
   "source": [
    "#Lendo arquivo CSV de Treino\n",
    "x_train=pd.read_csv('../dataset/class/X_training.csv')\n",
    "y_train=pd.read_csv('../dataset/class/y_training.csv')\n",
    "\n",
    "#Lendo arquivo CSV de teste\n",
    "x_test = pd.read_csv('../dataset/class/X_test.csv')\n",
    "y_test = pd.read_csv('../dataset/class/y_test.csv')\n",
    "\n",
    "#Lendo arquivo CSV de Validação\n",
    "x_val = pd.read_csv('../dataset/class/X_validation.csv')\n",
    "y_val = pd.read_csv('../dataset/class/y_validation.csv')"
   ]
  },
  {
   "cell_type": "code",
   "execution_count": 9,
   "metadata": {},
   "outputs": [],
   "source": [
    "#Seleção de Features\n",
    "features = [  'customer_type', 'age', 'class', 'flight_distance',\n",
    "              'inflight_wifi_service', 'departure_arrival_time_convenient',\n",
    "              'ease_of_online_booking', 'gate_location', 'food_and_drink',\n",
    "              'online_boarding', 'seat_comfort', 'inflight_entertainment',\n",
    "              'on_board_service', 'leg_room_service', 'baggage_handling',\n",
    "              'checkin_service', 'inflight_service', 'cleanliness',\n",
    "              'departure_delay_in_minutes', 'arrival_delay_in_minutes',\n",
    "              'gender_Female', 'gender_Male', 'type_of_travel_business_travel',\n",
    "              'type_of_travel_personal_travel']\n",
    "\n",
    "#Tratamento dos dados\n",
    "x_train = x_train.loc[:,features]\n",
    "y_train = y_train.values.ravel()\n",
    "\n",
    "x_val = x_val.loc[:,features]\n",
    "y_val = y_val.values.ravel()\n",
    "\n",
    "x_test = x_test.loc[:,features]\n",
    "y_test = y_test.values.ravel()"
   ]
  },
  {
   "cell_type": "markdown",
   "metadata": {},
   "source": [
    "# Model Training - RandomForestClassifier (Training Data)"
   ]
  },
  {
   "cell_type": "markdown",
   "metadata": {},
   "source": [
    "## Definindo os melhores parametros da RandomForest"
   ]
  },
  {
   "cell_type": "code",
   "execution_count": 11,
   "metadata": {},
   "outputs": [
    {
     "name": "stdout",
     "output_type": "stream",
     "text": [
      "Melhores parâmetros: {'max_depth': 50, 'n_estimators': 500}\n"
     ]
    }
   ],
   "source": [
    "# Definindo os hiperparâmetros para o GridSearch\n",
    "param_grid = {\n",
    "    'n_estimators': [50, 100, 200, 500],\n",
    "    'max_depth': [None, 10, 20, 30, 50]\n",
    "}\n",
    "\n",
    "# Configuração do GridSearchCV\n",
    "grid_search = ms.GridSearchCV(\n",
    "    estimator = en.RandomForestClassifier(),\n",
    "    param_grid = param_grid,\n",
    "    cv = 5,  # Validação cruzada com 5 folds\n",
    "    scoring = 'accuracy',  # Métrica de avaliação\n",
    "    n_jobs = -1  # Paralelismo total para acelerar\n",
    ")\n",
    "\n",
    "# Ajuste aos dados\n",
    "grid_search.fit(x_train, y_train)\n",
    "\n",
    "# Melhores parâmetros\n",
    "print(\"Melhores parâmetros:\", grid_search.best_params_)"
   ]
  },
  {
   "cell_type": "markdown",
   "metadata": {},
   "source": [
    "## Model Training"
   ]
  },
  {
   "cell_type": "code",
   "execution_count": 19,
   "metadata": {},
   "outputs": [],
   "source": [
    "#define\n",
    "model = en.RandomForestClassifier(  n_estimators=grid_search.best_params_['n_estimators'],\n",
    "                                    max_depth=grid_search.best_params_['max_depth'],\n",
    "                                    random_state=0  )\n",
    "\n",
    "#fit\n",
    "model.fit(x_train,y_train)\n",
    "yhat_train = model.predict(x_train)\n",
    "\n",
    "#performance\n",
    "acc_train = mt.accuracy_score(yhat_train,y_train)\n",
    "prec_train = mt.precision_score(yhat_train,y_train)\n",
    "recall_train = mt.recall_score(yhat_train,y_train)\n",
    "f1_train = mt.f1_score(yhat_train,y_train)"
   ]
  },
  {
   "cell_type": "markdown",
   "metadata": {},
   "source": [
    "# Model Training - RandomForestClassifier (Validation Data)"
   ]
  },
  {
   "cell_type": "code",
   "execution_count": 20,
   "metadata": {},
   "outputs": [],
   "source": [
    "#define\n",
    "model = en.RandomForestClassifier(  n_estimators=grid_search.best_params_['n_estimators'],\n",
    "                                    max_depth=grid_search.best_params_['max_depth'],\n",
    "                                    random_state=0  )\n",
    "\n",
    "#fit\n",
    "model.fit(x_train,y_train)\n",
    "yhat_val = model.predict(x_val)\n",
    "\n",
    "#performance\n",
    "acc_val = mt.accuracy_score(yhat_val,y_val)\n",
    "prec_val = mt.precision_score(yhat_val,y_val)\n",
    "recall_val = mt.recall_score(yhat_val,y_val)\n",
    "f1_val = mt.f1_score(yhat_val,y_val)"
   ]
  },
  {
   "cell_type": "markdown",
   "metadata": {},
   "source": [
    "# Model Training - RandomForestClassifier (Test Data)"
   ]
  },
  {
   "cell_type": "code",
   "execution_count": 21,
   "metadata": {},
   "outputs": [
    {
     "name": "stderr",
     "output_type": "stream",
     "text": [
      "/home/leprado06/.pyenv/versions/ensaio_ML/lib/python3.12/site-packages/sklearn/utils/validation.py:2732: UserWarning: X has feature names, but RandomForestClassifier was fitted without feature names\n",
      "  warnings.warn(\n"
     ]
    }
   ],
   "source": [
    "#define\n",
    "model = en.RandomForestClassifier(  n_estimators=grid_search.best_params_['n_estimators'],\n",
    "                                    max_depth=grid_search.best_params_['max_depth'],\n",
    "                                    random_state=0  )\n",
    "\n",
    "#fit\n",
    "model.fit(np.concatenate((x_train,x_val)),\n",
    "          np.concatenate((y_train,y_val)))\n",
    "yhat_test = model.predict(x_test)\n",
    "\n",
    "#performance\n",
    "acc_test = mt.accuracy_score(yhat_test,y_test)\n",
    "prec_test = mt.precision_score(yhat_test,y_test)\n",
    "recall_test = mt.recall_score(yhat_test,y_test)\n",
    "f1_test = mt.f1_score(yhat_test,y_test)"
   ]
  },
  {
   "cell_type": "code",
   "execution_count": 22,
   "metadata": {},
   "outputs": [
    {
     "data": {
      "text/html": [
       "<div>\n",
       "<style scoped>\n",
       "    .dataframe tbody tr th:only-of-type {\n",
       "        vertical-align: middle;\n",
       "    }\n",
       "\n",
       "    .dataframe tbody tr th {\n",
       "        vertical-align: top;\n",
       "    }\n",
       "\n",
       "    .dataframe thead th {\n",
       "        text-align: right;\n",
       "    }\n",
       "</style>\n",
       "<table border=\"1\" class=\"dataframe\">\n",
       "  <thead>\n",
       "    <tr style=\"text-align: right;\">\n",
       "      <th></th>\n",
       "      <th>Treinamento</th>\n",
       "      <th>Validação</th>\n",
       "      <th>Teste</th>\n",
       "    </tr>\n",
       "  </thead>\n",
       "  <tbody>\n",
       "    <tr>\n",
       "      <th>Accuracy</th>\n",
       "      <td>1.0</td>\n",
       "      <td>0.962515</td>\n",
       "      <td>0.963233</td>\n",
       "    </tr>\n",
       "    <tr>\n",
       "      <th>Precision</th>\n",
       "      <td>1.0</td>\n",
       "      <td>0.941570</td>\n",
       "      <td>0.942983</td>\n",
       "    </tr>\n",
       "    <tr>\n",
       "      <th>Recall</th>\n",
       "      <td>1.0</td>\n",
       "      <td>0.971057</td>\n",
       "      <td>0.972416</td>\n",
       "    </tr>\n",
       "    <tr>\n",
       "      <th>F1-Score</th>\n",
       "      <td>1.0</td>\n",
       "      <td>0.956086</td>\n",
       "      <td>0.957473</td>\n",
       "    </tr>\n",
       "  </tbody>\n",
       "</table>\n",
       "</div>"
      ],
      "text/plain": [
       "           Treinamento  Validação     Teste\n",
       "Accuracy           1.0   0.962515  0.963233\n",
       "Precision          1.0   0.941570  0.942983\n",
       "Recall             1.0   0.971057  0.972416\n",
       "F1-Score           1.0   0.956086  0.957473"
      ]
     },
     "execution_count": 22,
     "metadata": {},
     "output_type": "execute_result"
    }
   ],
   "source": [
    "#Criando dataframe com as métricas do Ensaio\n",
    "metrics = [\"Accuracy\", \"Precision\", \"Recall\", \"F1-Score\"]\n",
    "training_metrics = [acc_train, prec_train, recall_train, f1_train]\n",
    "val_metrics = [acc_val, prec_val, recall_val, f1_val]\n",
    "test_metrics = [acc_test, prec_test, recall_test, f1_test]\n",
    "\n",
    "mts = pd.DataFrame({    \"Treinamento\": training_metrics,\n",
    "                        \"Validação\": val_metrics,\n",
    "                        \"Teste\": test_metrics},index = metrics)\n",
    "\n",
    "mts"
   ]
  }
 ],
 "metadata": {
  "kernelspec": {
   "display_name": "ensaio_ML",
   "language": "python",
   "name": "python3"
  },
  "language_info": {
   "codemirror_mode": {
    "name": "ipython",
    "version": 3
   },
   "file_extension": ".py",
   "mimetype": "text/x-python",
   "name": "python",
   "nbconvert_exporter": "python",
   "pygments_lexer": "ipython3",
   "version": "3.12.7"
  }
 },
 "nbformat": 4,
 "nbformat_minor": 2
}
