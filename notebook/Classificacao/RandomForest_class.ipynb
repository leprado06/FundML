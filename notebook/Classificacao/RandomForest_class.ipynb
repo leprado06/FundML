{
 "cells": [
  {
   "cell_type": "markdown",
   "metadata": {},
   "source": [
    "# Imports"
   ]
  },
  {
   "cell_type": "code",
   "execution_count": 1,
   "metadata": {},
   "outputs": [],
   "source": [
    "import pandas   as pd\n",
    "import numpy    as np\n",
    "\n",
    "from matplotlib         import pyplot           as plt\n",
    "from sklearn            import metrics          as mt\n",
    "from sklearn            import ensemble         as en\n",
    "from sklearn            import model_selection  as ms"
   ]
  },
  {
   "cell_type": "markdown",
   "metadata": {},
   "source": [
    "# Load Dataset"
   ]
  },
  {
   "cell_type": "code",
   "execution_count": 2,
   "metadata": {},
   "outputs": [],
   "source": [
    "#Lendo arquivo CSV de Treino\n",
    "x_train=pd.read_csv('../../dataset/class/X_training.csv')\n",
    "y_train=pd.read_csv('../../dataset/class/y_training.csv')\n",
    "\n",
    "#Lendo arquivo CSV de teste\n",
    "x_test = pd.read_csv('../../dataset/class/X_test.csv')\n",
    "y_test = pd.read_csv('../../dataset/class/y_test.csv')\n",
    "\n",
    "#Lendo arquivo CSV de Validação\n",
    "x_val = pd.read_csv('../../dataset/class/X_validation.csv')\n",
    "y_val = pd.read_csv('../../dataset/class/y_validation.csv')"
   ]
  },
  {
   "cell_type": "code",
   "execution_count": 3,
   "metadata": {},
   "outputs": [],
   "source": [
    "#Seleção de Features\n",
    "features = [  'customer_type', 'age', 'class', 'flight_distance',\n",
    "              'inflight_wifi_service', 'departure_arrival_time_convenient',\n",
    "              'ease_of_online_booking', 'gate_location', 'food_and_drink',\n",
    "              'online_boarding', 'seat_comfort', 'inflight_entertainment',\n",
    "              'on_board_service', 'leg_room_service', 'baggage_handling',\n",
    "              'checkin_service', 'inflight_service', 'cleanliness',\n",
    "              'departure_delay_in_minutes', 'arrival_delay_in_minutes',\n",
    "              'gender_Female', 'gender_Male', 'type_of_travel_business_travel',\n",
    "              'type_of_travel_personal_travel']\n",
    "\n",
    "#Tratamento dos dados\n",
    "x_train = x_train.loc[:,features]\n",
    "y_train = y_train.values.ravel()\n",
    "\n",
    "x_val = x_val.loc[:,features]\n",
    "y_val = y_val.values.ravel()\n",
    "\n",
    "x_test = x_test.loc[:,features]\n",
    "y_test = y_test.values.ravel()"
   ]
  },
  {
   "cell_type": "markdown",
   "metadata": {},
   "source": [
    "# Model Training - RandomForestClassifier (Training Data)"
   ]
  },
  {
   "cell_type": "markdown",
   "metadata": {},
   "source": [
    "## Definindo os melhores parametros da RandomForest"
   ]
  },
  {
   "cell_type": "code",
   "execution_count": 4,
   "metadata": {},
   "outputs": [
    {
     "name": "stderr",
     "output_type": "stream",
     "text": [
      "/home/leprado06/.pyenv/versions/ensaio_ML/lib/python3.12/site-packages/joblib/externals/loky/process_executor.py:752: UserWarning: A worker stopped while some jobs were given to the executor. This can be caused by a too short worker timeout or by a memory leak.\n",
      "  warnings.warn(\n"
     ]
    },
    {
     "name": "stdout",
     "output_type": "stream",
     "text": [
      "Melhores parâmetros: {'max_depth': 30, 'n_estimators': 500}\n"
     ]
    }
   ],
   "source": [
    "# Definindo os hiperparâmetros para o GridSearch\n",
    "param_grid = {\n",
    "    'n_estimators': [50, 100, 200, 500],\n",
    "    'max_depth': [None, 10, 20, 30, 50]\n",
    "}\n",
    "\n",
    "# Configuração do GridSearchCV\n",
    "grid_search = ms.GridSearchCV(\n",
    "    estimator = en.RandomForestClassifier(),\n",
    "    param_grid = param_grid,\n",
    "    cv = 5,  # Validação cruzada com 5 folds\n",
    "    scoring = 'accuracy',  # Métrica de avaliação\n",
    "    n_jobs = -1  # Paralelismo total para acelerar\n",
    ")\n",
    "\n",
    "# Ajuste aos dados\n",
    "grid_search.fit(x_train, y_train)\n",
    "\n",
    "# Melhores parâmetros\n",
    "print(\"Melhores parâmetros:\", grid_search.best_params_)"
   ]
  },
  {
   "cell_type": "markdown",
   "metadata": {},
   "source": [
    "## Model Training"
   ]
  },
  {
   "cell_type": "code",
   "execution_count": 5,
   "metadata": {},
   "outputs": [],
   "source": [
    "#define\n",
    "model = en.RandomForestClassifier(  n_estimators=grid_search.best_params_['n_estimators'],\n",
    "                                    max_depth=grid_search.best_params_['max_depth'],\n",
    "                                    random_state=0  )\n",
    "\n",
    "#fit\n",
    "model.fit(x_train,y_train)\n",
    "yhat_train = model.predict(x_train)\n",
    "\n",
    "#performance\n",
    "acc_train = mt.accuracy_score(yhat_train,y_train)\n",
    "prec_train = mt.precision_score(yhat_train,y_train)\n",
    "recall_train = mt.recall_score(yhat_train,y_train)\n",
    "f1_train = mt.f1_score(yhat_train,y_train)"
   ]
  },
  {
   "cell_type": "markdown",
   "metadata": {},
   "source": [
    "# Model Training - RandomForestClassifier (Validation Data)"
   ]
  },
  {
   "cell_type": "code",
   "execution_count": 6,
   "metadata": {},
   "outputs": [],
   "source": [
    "#define\n",
    "model = en.RandomForestClassifier(  n_estimators=grid_search.best_params_['n_estimators'],\n",
    "                                    max_depth=grid_search.best_params_['max_depth'],\n",
    "                                    random_state=0  )\n",
    "\n",
    "#fit\n",
    "model.fit(x_train,y_train)\n",
    "yhat_val = model.predict(x_val)\n",
    "\n",
    "#performance\n",
    "acc_val = mt.accuracy_score(yhat_val,y_val)\n",
    "prec_val = mt.precision_score(yhat_val,y_val)\n",
    "recall_val = mt.recall_score(yhat_val,y_val)\n",
    "f1_val = mt.f1_score(yhat_val,y_val)"
   ]
  },
  {
   "cell_type": "markdown",
   "metadata": {},
   "source": [
    "# Model Training - RandomForestClassifier (Test Data)"
   ]
  },
  {
   "cell_type": "code",
   "execution_count": 7,
   "metadata": {},
   "outputs": [
    {
     "name": "stderr",
     "output_type": "stream",
     "text": [
      "/home/leprado06/.pyenv/versions/ensaio_ML/lib/python3.12/site-packages/sklearn/utils/validation.py:2732: UserWarning: X has feature names, but RandomForestClassifier was fitted without feature names\n",
      "  warnings.warn(\n"
     ]
    }
   ],
   "source": [
    "#define\n",
    "model = en.RandomForestClassifier(  n_estimators=grid_search.best_params_['n_estimators'],\n",
    "                                    max_depth=grid_search.best_params_['max_depth'],\n",
    "                                    random_state=0  )\n",
    "\n",
    "#fit\n",
    "model.fit(np.concatenate((x_train,x_val)),\n",
    "          np.concatenate((y_train,y_val)))\n",
    "yhat_test = model.predict(x_test)\n",
    "\n",
    "#performance\n",
    "acc_test = mt.accuracy_score(yhat_test,y_test)\n",
    "prec_test = mt.precision_score(yhat_test,y_test)\n",
    "recall_test = mt.recall_score(yhat_test,y_test)\n",
    "f1_test = mt.f1_score(yhat_test,y_test)"
   ]
  },
  {
   "cell_type": "markdown",
   "metadata": {},
   "source": [
    "# Save Results"
   ]
  },
  {
   "cell_type": "code",
   "execution_count": 8,
   "metadata": {},
   "outputs": [],
   "source": [
    "train_metrics = {\n",
    "    \"Algorithm\": \"Random Forest Classifier\",\n",
    "    \"Accuracy\": np.round(acc_train, 3),\n",
    "    \"Precision\": np.round(prec_train, 3),\n",
    "    \"Recall\": np.round(recall_train, 3),\n",
    "    \"F1\": np.round(f1_train, 3)\n",
    "}\n",
    "validation_metrics = {\n",
    "    \"Algorithm\": \"Random Forest Classifier\",\n",
    "    \"Accuracy\": np.round(acc_val, 3),\n",
    "    \"Precision\": np.round(prec_val, 3),\n",
    "    \"Recall\": np.round(recall_val, 3),\n",
    "    \"F1\": np.round(f1_val, 3)\n",
    "}\n",
    "test_metrics = {\n",
    "    \"Algorithm\": \"Random Forest Classifier\",\n",
    "    \"Accuracy\": np.round(acc_test, 3),\n",
    "    \"Precision\": np.round(prec_test, 3),\n",
    "    \"Recall\": np.round(recall_test, 3),\n",
    "    \"F1\": np.round(f1_test, 3)\n",
    "}\n",
    "\n",
    "pd.DataFrame(train_metrics, index=[0]).to_csv(\n",
    "    \"./clas_train_metrics.csv\", mode=\"a\", header=False\n",
    ")\n",
    "pd.DataFrame(validation_metrics, index=[0]).to_csv(\n",
    "    \"./clas_validation_metrics.csv\", mode=\"a\", header=False\n",
    ")\n",
    "pd.DataFrame(test_metrics, index=[0]).to_csv(\n",
    "    \"./clas_test_metrics.csv\", mode=\"a\", header=False)"
   ]
  }
 ],
 "metadata": {
  "kernelspec": {
   "display_name": "ensaio_ML",
   "language": "python",
   "name": "python3"
  },
  "language_info": {
   "codemirror_mode": {
    "name": "ipython",
    "version": 3
   },
   "file_extension": ".py",
   "mimetype": "text/x-python",
   "name": "python",
   "nbconvert_exporter": "python",
   "pygments_lexer": "ipython3",
   "version": "3.12.7"
  }
 },
 "nbformat": 4,
 "nbformat_minor": 2
}
